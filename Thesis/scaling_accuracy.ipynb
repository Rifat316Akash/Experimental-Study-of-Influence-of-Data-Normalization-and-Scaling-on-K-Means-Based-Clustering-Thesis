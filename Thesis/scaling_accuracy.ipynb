{
 "cells": [
  {
   "cell_type": "code",
   "execution_count": 1,
   "metadata": {},
   "outputs": [],
   "source": [
    "import numpy as np\n",
    "import pandas as pd\n",
    "import csv\n",
    "import matplotlib.pyplot as plt\n",
    "%matplotlib inline\n",
    "import seaborn as sns\n",
    "import math \n",
    "from sklearn import preprocessing"
   ]
  },
  {
   "cell_type": "code",
   "execution_count": 2,
   "metadata": {},
   "outputs": [],
   "source": [
    "ds=pd.read_csv('F:/Course Study/Thesis(Musharrat Mam)/iris_data.csv')"
   ]
  },
  {
   "cell_type": "code",
   "execution_count": 3,
   "metadata": {},
   "outputs": [],
   "source": [
    "ds_1=ds.iloc[:,0:4]"
   ]
  },
  {
   "cell_type": "code",
   "execution_count": 4,
   "metadata": {},
   "outputs": [],
   "source": [
    "sd=preprocessing.StandardScaler()"
   ]
  },
  {
   "cell_type": "code",
   "execution_count": 5,
   "metadata": {},
   "outputs": [
    {
     "name": "stdout",
     "output_type": "stream",
     "text": [
      "[ 0.06866179 -0.1249576   0.76275864  0.79059079]\n"
     ]
    }
   ],
   "source": [
    "scaling=sd.fit_transform(ds_1)\n",
    "print(scaling[149])"
   ]
  },
  {
   "cell_type": "code",
   "execution_count": 6,
   "metadata": {},
   "outputs": [
    {
     "name": "stdout",
     "output_type": "stream",
     "text": [
      "[array([ 0.06866179, -0.1249576 ,  0.76275864,  0.79059079]), 2]\n"
     ]
    }
   ],
   "source": [
    "ds=pd.read_csv('F:/Course Study/Thesis(Musharrat Mam)/iris_data.csv')\n",
    "data = [];\n",
    "for i in range(150):\n",
    "    lst = [];\n",
    "    lst.append(scaling[i]);\n",
    "    lst.append(ds['class'][i]);\n",
    "    data.append(lst);\n",
    "    \n",
    "print(data[149])"
   ]
  },
  {
   "cell_type": "code",
   "execution_count": 7,
   "metadata": {},
   "outputs": [
    {
     "name": "stdout",
     "output_type": "stream",
     "text": [
      "65\n",
      "91\n",
      "135\n"
     ]
    }
   ],
   "source": [
    "import random\n",
    "random.seed(5)\n",
    "\n",
    "one  = random.randint(0, 149)\n",
    "two = random.randint(0, 149)\n",
    "three = random.randint(0, 149)\n",
    "\n",
    "print(one)\n",
    "print(two)\n",
    "print(three)"
   ]
  },
  {
   "cell_type": "code",
   "execution_count": 8,
   "metadata": {},
   "outputs": [
    {
     "name": "stdout",
     "output_type": "stream",
     "text": [
      "[array([1.03800476, 0.10644536, 0.36469871, 0.26469891]), 1]\n",
      "[array([ 0.31099753, -0.1249576 ,  0.47843012,  0.26469891]), 1]\n",
      "[array([ 2.24968346, -0.1249576 ,  1.33141568,  1.44795564]), 2]\n"
     ]
    }
   ],
   "source": [
    "c1 = []\n",
    "c2 = []\n",
    "c3 = []\n",
    "\n",
    "c1 = data[one]\n",
    "print(c1)\n",
    "\n",
    "c2 = data[two]\n",
    "print(c2)\n",
    "\n",
    "c3 = data[three]\n",
    "print(c3)"
   ]
  },
  {
   "cell_type": "code",
   "execution_count": 9,
   "metadata": {},
   "outputs": [],
   "source": [
    "def dis(source, dst):\n",
    "    sum = 0\n",
    "    for i in range(4):\n",
    "        x = source[i] - dst[i];\n",
    "        x = x*x    \n",
    "        sum += x\n",
    "    return math.sqrt(sum)   "
   ]
  },
  {
   "cell_type": "code",
   "execution_count": 10,
   "metadata": {},
   "outputs": [],
   "source": [
    "def update(c):\n",
    "    up = []\n",
    "    \n",
    "    for i in range(4):\n",
    "        sum = 0\n",
    "        for j in range(len(c)):\n",
    "            sum += c[j][i]\n",
    "        up.append(sum/len(c))\n",
    "    return up"
   ]
  },
  {
   "cell_type": "code",
   "execution_count": 11,
   "metadata": {},
   "outputs": [
    {
     "ename": "IndexError",
     "evalue": "list index out of range",
     "output_type": "error",
     "traceback": [
      "\u001b[1;31m---------------------------------------------------------------------------\u001b[0m",
      "\u001b[1;31mIndexError\u001b[0m                                Traceback (most recent call last)",
      "\u001b[1;32m<ipython-input-11-3c00ebf23a4e>\u001b[0m in \u001b[0;36m<module>\u001b[1;34m\u001b[0m\n\u001b[0;32m      7\u001b[0m     \u001b[0mcl3\u001b[0m \u001b[1;33m=\u001b[0m \u001b[1;33m[\u001b[0m\u001b[1;33m]\u001b[0m\u001b[1;33m\u001b[0m\u001b[1;33m\u001b[0m\u001b[0m\n\u001b[0;32m      8\u001b[0m     \u001b[1;32mfor\u001b[0m \u001b[0mj\u001b[0m \u001b[1;32min\u001b[0m \u001b[0mrange\u001b[0m\u001b[1;33m(\u001b[0m\u001b[1;36m150\u001b[0m\u001b[1;33m)\u001b[0m\u001b[1;33m:\u001b[0m\u001b[1;33m\u001b[0m\u001b[1;33m\u001b[0m\u001b[0m\n\u001b[1;32m----> 9\u001b[1;33m         \u001b[0md1\u001b[0m \u001b[1;33m=\u001b[0m \u001b[0mdis\u001b[0m\u001b[1;33m(\u001b[0m\u001b[0mc1\u001b[0m\u001b[1;33m,\u001b[0m \u001b[0mdata\u001b[0m\u001b[1;33m[\u001b[0m\u001b[0mj\u001b[0m\u001b[1;33m]\u001b[0m\u001b[1;33m)\u001b[0m\u001b[1;33m\u001b[0m\u001b[1;33m\u001b[0m\u001b[0m\n\u001b[0m\u001b[0;32m     10\u001b[0m         \u001b[0md2\u001b[0m \u001b[1;33m=\u001b[0m \u001b[0mdis\u001b[0m\u001b[1;33m(\u001b[0m\u001b[0mc2\u001b[0m\u001b[1;33m,\u001b[0m \u001b[0mdata\u001b[0m\u001b[1;33m[\u001b[0m\u001b[0mj\u001b[0m\u001b[1;33m]\u001b[0m\u001b[1;33m)\u001b[0m\u001b[1;33m\u001b[0m\u001b[1;33m\u001b[0m\u001b[0m\n\u001b[0;32m     11\u001b[0m         \u001b[0md3\u001b[0m \u001b[1;33m=\u001b[0m \u001b[0mdis\u001b[0m\u001b[1;33m(\u001b[0m\u001b[0mc3\u001b[0m\u001b[1;33m,\u001b[0m \u001b[0mdata\u001b[0m\u001b[1;33m[\u001b[0m\u001b[0mj\u001b[0m\u001b[1;33m]\u001b[0m\u001b[1;33m)\u001b[0m\u001b[1;33m\u001b[0m\u001b[1;33m\u001b[0m\u001b[0m\n",
      "\u001b[1;32m<ipython-input-9-ca23e19d977b>\u001b[0m in \u001b[0;36mdis\u001b[1;34m(source, dst)\u001b[0m\n\u001b[0;32m      2\u001b[0m     \u001b[0msum\u001b[0m \u001b[1;33m=\u001b[0m \u001b[1;36m0\u001b[0m\u001b[1;33m\u001b[0m\u001b[1;33m\u001b[0m\u001b[0m\n\u001b[0;32m      3\u001b[0m     \u001b[1;32mfor\u001b[0m \u001b[0mi\u001b[0m \u001b[1;32min\u001b[0m \u001b[0mrange\u001b[0m\u001b[1;33m(\u001b[0m\u001b[1;36m4\u001b[0m\u001b[1;33m)\u001b[0m\u001b[1;33m:\u001b[0m\u001b[1;33m\u001b[0m\u001b[1;33m\u001b[0m\u001b[0m\n\u001b[1;32m----> 4\u001b[1;33m         \u001b[0mx\u001b[0m \u001b[1;33m=\u001b[0m \u001b[0msource\u001b[0m\u001b[1;33m[\u001b[0m\u001b[0mi\u001b[0m\u001b[1;33m]\u001b[0m \u001b[1;33m-\u001b[0m \u001b[0mdst\u001b[0m\u001b[1;33m[\u001b[0m\u001b[0mi\u001b[0m\u001b[1;33m]\u001b[0m\u001b[1;33m;\u001b[0m\u001b[1;33m\u001b[0m\u001b[1;33m\u001b[0m\u001b[0m\n\u001b[0m\u001b[0;32m      5\u001b[0m         \u001b[0mx\u001b[0m \u001b[1;33m=\u001b[0m \u001b[0mx\u001b[0m\u001b[1;33m*\u001b[0m\u001b[0mx\u001b[0m\u001b[1;33m\u001b[0m\u001b[1;33m\u001b[0m\u001b[0m\n\u001b[0;32m      6\u001b[0m         \u001b[0msum\u001b[0m \u001b[1;33m+=\u001b[0m \u001b[0mx\u001b[0m\u001b[1;33m\u001b[0m\u001b[1;33m\u001b[0m\u001b[0m\n",
      "\u001b[1;31mIndexError\u001b[0m: list index out of range"
     ]
    }
   ],
   "source": [
    "cl1 = []\n",
    "cl2 = []\n",
    "cl3 = []\n",
    "for i in range(15):\n",
    "    cl1 = []\n",
    "    cl2 = []\n",
    "    cl3 = []\n",
    "    for j in range(150):\n",
    "        d1 = dis(c1, data[j])\n",
    "        d2 = dis(c2, data[j])\n",
    "        d3 = dis(c3, data[j])\n",
    "        m = min(d1,d2,d3)\n",
    "        \n",
    "        if (m==d1):\n",
    "            cl1.append(data[j])\n",
    "        elif (m==d2):\n",
    "            cl2.append(data[j])\n",
    "        else:\n",
    "            cl3.append(data[j])    \n",
    "    \n",
    "    c1 = update(cl1)\n",
    "    c2 = update(cl2)\n",
    "    c3 = update(cl3)\n",
    "    \n",
    "print(c1)\n",
    "print(c2)\n",
    "print(c3)"
   ]
  },
  {
   "cell_type": "code",
   "execution_count": null,
   "metadata": {},
   "outputs": [],
   "source": [
    "cn1 = 0\n",
    "cn2 = 0\n",
    "cn3 = 0\n",
    "for i in range(len(cl1)):\n",
    "    if(cl1[i][4]==-1.2247):\n",
    "        cn1+=1\n",
    "    elif(cl1[i][4]==0):\n",
    "        cn2+=1  \n",
    "    else:\n",
    "        cn3+=1    \n",
    "        \n",
    "print(cn1)\n",
    "print(cn2)\n",
    "print(cn3)\n",
    "m1 = max(cn1,cn2,cn3)"
   ]
  },
  {
   "cell_type": "code",
   "execution_count": null,
   "metadata": {},
   "outputs": [],
   "source": [
    "cn11 = 0\n",
    "cn22 = 0\n",
    "cn33 = 0\n",
    "\n",
    "for i in range(len(cl2)):\n",
    "    if(cl2[i][4]==-1.2247):\n",
    "        cn11+=1\n",
    "    elif(cl2[i][4]==0):\n",
    "        cn22+=1  \n",
    "    else:\n",
    "        cn33+=1     \n",
    "print(cn11)\n",
    "print(cn22)\n",
    "print(cn33)\n",
    "m2 = max(cn11,cn22,cn33)"
   ]
  },
  {
   "cell_type": "code",
   "execution_count": null,
   "metadata": {},
   "outputs": [],
   "source": [
    "cn111 = 0\n",
    "cn222 = 0\n",
    "cn333= 0\n",
    "for i in range(len(cl3)):\n",
    "    if(cl3[i][4]==-1.2247):\n",
    "        cn111+=1\n",
    "    elif(cl3[i][4]==0):\n",
    "        cn222+=1  \n",
    "    else:\n",
    "        cn333+=1 \n",
    "print(cn111)\n",
    "print(cn222)\n",
    "print(cn333)\n",
    "m3 = max(cn111,cn222,cn333)"
   ]
  },
  {
   "cell_type": "code",
   "execution_count": null,
   "metadata": {},
   "outputs": [],
   "source": [
    "print(\"Setosa: \" + str(cn1) +\" \"+str(cn11) +\" \"+str(cn111))\n",
    "print(\"Versicolor: \" + str(cn2)+\" \"+ str(cn22)+\" \"+ str(cn222))\n",
    "print(\"Virginica: \" + str(cn3)+\" \"+ str(cn33)+\" \"+ str(cn333))"
   ]
  },
  {
   "cell_type": "code",
   "execution_count": null,
   "metadata": {},
   "outputs": [],
   "source": [
    "m = (m1+m2+m3)/150\n",
    "print(m*100)"
   ]
  },
  {
   "cell_type": "code",
   "execution_count": null,
   "metadata": {},
   "outputs": [],
   "source": []
  }
 ],
 "metadata": {
  "kernelspec": {
   "display_name": "Python 3",
   "language": "python",
   "name": "python3"
  },
  "language_info": {
   "codemirror_mode": {
    "name": "ipython",
    "version": 3
   },
   "file_extension": ".py",
   "mimetype": "text/x-python",
   "name": "python",
   "nbconvert_exporter": "python",
   "pygments_lexer": "ipython3",
   "version": "3.7.4"
  }
 },
 "nbformat": 4,
 "nbformat_minor": 2
}
